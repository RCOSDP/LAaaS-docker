{
 "cells": [
  {
   "cell_type": "code",
   "execution_count": 1,
   "metadata": {},
   "outputs": [],
   "source": [
    "import json\n",
    "import requests\n",
    "import socket\n",
    "\n",
    "import matplotlib.pyplot as plt\n",
    "import numpy as np\n",
    "import pandas as pd\n",
    "import psycopg2\n",
    "import seaborn as sns\n",
    "from sqlalchemy import create_engine"
   ]
  },
  {
   "cell_type": "code",
   "execution_count": 2,
   "metadata": {},
   "outputs": [],
   "source": [
    "# superset_dbコンテナのjupyterデータベースを指定（変更不可）\n",
    "engine = create_engine('postgresql://postgres@superset_db:5432/jupyter')"
   ]
  },
  {
   "cell_type": "code",
   "execution_count": 3,
   "metadata": {},
   "outputs": [],
   "source": [
    "# ステートメントをAPIサーバから取得（以下はxAPIステートメント取得の例）\n",
    "\n",
    "## http://docs.learninglocker.net/http-aggregation/\n",
    "url = 'http://{}:8080/statements/aggregate?cache=false&maxTimeMS=5000&maxScan=10000&pipeline=%5B%7B%22%24limit%22%3A%203000%7D%2C%20%7B%22%24project%22%3A%20%7B%20%22statement%22%3A%201%2C%20%22_id%22%3A%200%20%7D%7D%5D'.format(socket.gethostbyname('learninglocker'))\n",
    "## Learning Lockerのクライアント情報を設定\n",
    "user = '2b15bab38dcf7f81b6e6db54849d01b6208b4f1d'\n",
    "passwd = 'dd9b4af4520a82a6c9cb66f241aafd12f24427a1'\n",
    "## Learning LockerのAGGREGATION APIでxAPIステートメントを取得\n",
    "r = requests.get(url, auth=(user, passwd))\n",
    "## Jsonを辞書型に変換\n",
    "response_data = json.loads(r.text)\n",
    "## 辞書からステートメントのみを抽出\n",
    "stats = [d['statement'] for d in response_data]\n"
   ]
  },
  {
   "cell_type": "code",
   "execution_count": 4,
   "metadata": {},
   "outputs": [
    {
     "data": {
      "text/html": [
       "<div>\n",
       "<style scoped>\n",
       "    .dataframe tbody tr th:only-of-type {\n",
       "        vertical-align: middle;\n",
       "    }\n",
       "\n",
       "    .dataframe tbody tr th {\n",
       "        vertical-align: top;\n",
       "    }\n",
       "\n",
       "    .dataframe thead th {\n",
       "        text-align: right;\n",
       "    }\n",
       "</style>\n",
       "<table border=\"1\" class=\"dataframe\">\n",
       "  <thead>\n",
       "    <tr style=\"text-align: right;\">\n",
       "      <th></th>\n",
       "      <th>object.definition.description.en</th>\n",
       "      <th>object.id</th>\n",
       "      <th>timestamp</th>\n",
       "    </tr>\n",
       "  </thead>\n",
       "  <tbody>\n",
       "    <tr>\n",
       "      <th>0</th>\n",
       "      <td>user_loggedin</td>\n",
       "      <td>http://localhost:8000</td>\n",
       "      <td>2019-06-20T14:38:01+09:00</td>\n",
       "    </tr>\n",
       "    <tr>\n",
       "      <th>1</th>\n",
       "      <td>user_password_updated</td>\n",
       "      <td>http://localhost:8000/user/profile.php?id=null</td>\n",
       "      <td>2019-06-20T14:39:36+09:00</td>\n",
       "    </tr>\n",
       "    <tr>\n",
       "      <th>2</th>\n",
       "      <td>user_updated</td>\n",
       "      <td>http://localhost:8000/user/editadvanced.php?id...</td>\n",
       "      <td>2019-06-20T14:39:37+09:00</td>\n",
       "    </tr>\n",
       "    <tr>\n",
       "      <th>3</th>\n",
       "      <td>dashboard_viewed</td>\n",
       "      <td>http://localhost:8000</td>\n",
       "      <td>2019-06-20T14:41:31+09:00</td>\n",
       "    </tr>\n",
       "  </tbody>\n",
       "</table>\n",
       "</div>"
      ],
      "text/plain": [
       "  object.definition.description.en  \\\n",
       "0                    user_loggedin   \n",
       "1            user_password_updated   \n",
       "2                     user_updated   \n",
       "3                 dashboard_viewed   \n",
       "\n",
       "                                           object.id  \\\n",
       "0                              http://localhost:8000   \n",
       "1     http://localhost:8000/user/profile.php?id=null   \n",
       "2  http://localhost:8000/user/editadvanced.php?id...   \n",
       "3                              http://localhost:8000   \n",
       "\n",
       "                   timestamp  \n",
       "0  2019-06-20T14:38:01+09:00  \n",
       "1  2019-06-20T14:39:36+09:00  \n",
       "2  2019-06-20T14:39:37+09:00  \n",
       "3  2019-06-20T14:41:31+09:00  "
      ]
     },
     "execution_count": 4,
     "metadata": {},
     "output_type": "execute_result"
    }
   ],
   "source": [
    "# ステートメントの分析\n",
    "# 分析結果は最終的にpandasのDataframe形式とすること\n",
    "\n",
    "## ネスト項目をフラットにしてpandasのDataFrameを作成\n",
    "df = pd.io.json.json_normalize(stats)\n",
    "## 特定ユーザのステートメントを選択\n",
    "df = df[df['actor.account.name'] == '2']\n",
    "## オブジェクトとタイムスタンプの射影\n",
    "df = df[['object.definition.description.en', 'object.id', 'timestamp']]\n",
    "df"
   ]
  },
  {
   "cell_type": "code",
   "execution_count": 5,
   "metadata": {},
   "outputs": [],
   "source": [
    "# Supersetのjupyterデータベースに処理結果を保存\n",
    "# 次にエラーが表示される場合はテーブル名称を変更すること : ValueError: Table '<tablename>' already exists.\n",
    "\n",
    "tablename = 'user_2_objects'\n",
    "df.to_sql(tablename, engine)"
   ]
  }
 ],
 "metadata": {
  "kernelspec": {
   "display_name": "Python 3",
   "language": "python",
   "name": "python3"
  },
  "language_info": {
   "codemirror_mode": {
    "name": "ipython",
    "version": 3
   },
   "file_extension": ".py",
   "mimetype": "text/x-python",
   "name": "python",
   "nbconvert_exporter": "python",
   "pygments_lexer": "ipython3",
   "version": "3.7.3"
  }
 },
 "nbformat": 4,
 "nbformat_minor": 2
}
