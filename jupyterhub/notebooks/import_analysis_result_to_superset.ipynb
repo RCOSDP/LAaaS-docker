{
 "cells": [
  {
   "cell_type": "code",
   "execution_count": null,
   "metadata": {},
   "outputs": [],
   "source": [
    "import json\n",
    "import requests\n",
    "import socket\n",
    "\n",
    "import matplotlib.pyplot as plt\n",
    "import numpy as np\n",
    "import pandas as pd\n",
    "import psycopg2\n",
    "import seaborn as sns\n",
    "from sqlalchemy import create_engine"
   ]
  },
  {
   "cell_type": "code",
   "execution_count": null,
   "metadata": {},
   "outputs": [],
   "source": [
    "# superset-dbコンテナのjupyterデータベースを指定（変更不可）\n",
    "engine = create_engine('postgresql://postgres@superset-db:5432/jupyter')"
   ]
  },
  {
   "cell_type": "code",
   "execution_count": null,
   "metadata": {},
   "outputs": [],
   "source": [
    "# ステートメントをAPIサーバから取得（以下はxAPIステートメント取得の例）\n",
    "\n",
    "## http://docs.learninglocker.net/http-aggregation/\n",
    "url = 'http://{}:8080/statements/aggregate?cache=false&maxTimeMS=5000&maxScan=10000&pipeline=%5B%7B%22%24limit%22%3A%203000%7D%2C%20%7B%22%24project%22%3A%20%7B%20%22statement%22%3A%201%2C%20%22_id%22%3A%200%20%7D%7D%5D'.format(socket.gethostbyname('learninglocker'))\n",
    "## Learning Lockerのクライアント情報を設定\n",
    "user = '2b15bab38dcf7f81b6e6db54849d01b6208b4f1d'\n",
    "passwd = 'dd9b4af4520a82a6c9cb66f241aafd12f24427a1'\n",
    "## Learning LockerのAGGREGATION APIでxAPIステートメントを取得\n",
    "r = requests.get(url, auth=(user, passwd))\n",
    "## Jsonを辞書型に変換\n",
    "response_data = json.loads(r.text)\n",
    "## 辞書からステートメントのみを抽出\n",
    "stats = [d['statement'] for d in response_data]\n"
   ]
  },
  {
   "cell_type": "code",
   "execution_count": null,
   "metadata": {},
   "outputs": [],
   "source": [
    "# ステートメントの分析\n",
    "# 分析結果は最終的にpandasのDataframe形式とすること\n",
    "\n",
    "## ネスト項目をフラットにしてpandasのDataFrameを作成\n",
    "df = pd.io.json.json_normalize(stats)\n",
    "## 特定ユーザのステートメントを選択\n",
    "df = df[df['actor.account.name'] == '2']\n",
    "## オブジェクトとタイムスタンプの射影\n",
    "df = df[['object.definition.description.en', 'object.id', 'timestamp']]\n",
    "df"
   ]
  },
  {
   "cell_type": "code",
   "execution_count": null,
   "metadata": {},
   "outputs": [],
   "source": [
    "# Supersetのjupyterデータベースに処理結果を保存\n",
    "# 次にエラーが表示される場合はテーブル名称を変更すること : ValueError: Table '<tablename>' already exists.\n",
    "\n",
    "tablename = 'notebook_results'\n",
    "df.to_sql(tablename, engine)"
   ]
  },
  {
   "cell_type": "code",
   "execution_count": null,
   "metadata": {},
   "outputs": [],
   "source": [
    "# Supersetにテーブルを登録\n",
    "s = requests.Session()\n",
    "r = s.post(\n",
    "    'http://superset:8088/api/v1/security/login',\n",
    "    json={\n",
    "        'username': 'admin',\n",
    "        'password': 'admin',\n",
    "        'provider': 'db', \n",
    "    }\n",
    ")\n",
    "headers={\n",
    "    'Authorization': f'Bearer {r.json()[\"access_token\"]}'\n",
    "}\n",
    "\n",
    "r = s.get(\n",
    "    'http://superset:8088/api/v1/database?q=(filters:!((col:database_name,opr:eq,value:Jupyter)))',\n",
    "    headers=headers,\n",
    ")\n",
    "database_id = r.json()['ids'][0]\n",
    "\n",
    "r = s.get(\n",
    "    'http://superset:8088/api/v1/security/csrf_token',\n",
    "    headers=headers\n",
    ")\n",
    "headers['X-CSRFToken'] = r.json()['result']\n",
    "\n",
    "r = s.post(\n",
    "    'http://superset:8088/api/v1/dataset',\n",
    "    headers=headers,\n",
    "    json={\n",
    "        'database': database_id,\n",
    "        'schema': 'public',\n",
    "        'table_name': tablename\n",
    "    }\n",
    ")\n",
    "print(r.json())"
   ]
  }
 ],
 "metadata": {
  "kernelspec": {
   "display_name": "Python 3",
   "language": "python",
   "name": "python3"
  },
  "language_info": {
   "codemirror_mode": {
    "name": "ipython",
    "version": 3
   },
   "file_extension": ".py",
   "mimetype": "text/x-python",
   "name": "python",
   "nbconvert_exporter": "python",
   "pygments_lexer": "ipython3",
   "version": "3.7.4"
  }
 },
 "nbformat": 4,
 "nbformat_minor": 2
}
