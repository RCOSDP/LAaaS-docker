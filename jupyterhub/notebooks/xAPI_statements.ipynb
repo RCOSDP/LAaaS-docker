{
 "cells": [
  {
   "cell_type": "code",
   "execution_count": null,
   "metadata": {},
   "outputs": [],
   "source": [
    "import json\n",
    "import requests\n",
    "import urllib.parse\n",
    "\n",
    "import matplotlib.pyplot as plt\n",
    "import pandas as pd\n",
    "import seaborn as sns"
   ]
  },
  {
   "cell_type": "markdown",
   "metadata": {},
   "source": [
    "## xAPIステートメントを取得"
   ]
  },
  {
   "cell_type": "markdown",
   "metadata": {},
   "source": [
    "<span style=\"color:red\"><b>Learning Lockerで作成したLRSのクライアント情報を設定すること。</b></span>"
   ]
  },
  {
   "cell_type": "code",
   "execution_count": null,
   "metadata": {},
   "outputs": [],
   "source": [
    "user = '<Key>'\n",
    "passwd = '<Secret>'"
   ]
  },
  {
   "cell_type": "markdown",
   "metadata": {},
   "source": [
    "[AGGREGATION HTTP INTERFACE](https://learninglocker.atlassian.net/wiki/spaces/DOCS/pages/106037259/Aggregation+API)で検索条件( `$match` )と件数( `$limit` )を指定し、ステートメントを取得する。  \n",
    "ステートメントの詳細は[xAPI仕様](https://github.com/adlnet/xAPI-Spec)([日本語版](https://github.com/elc-gh/xAPI-Spec_ja))を参照すること。"
   ]
  },
  {
   "cell_type": "code",
   "execution_count": null,
   "metadata": {},
   "outputs": [],
   "source": [
    "pipeline = urllib.parse.quote(json.dumps([\n",
    "    {'$project': {\n",
    "        'timestamp': 1,\n",
    "        'statement': 1,\n",
    "        '_id': 0\n",
    "    }},\n",
    "    # 検索条件\n",
    "    {'$match': {\n",
    "        #'statement.actor.name': '...', # ユーザの絞り込み\n",
    "        #'statement.verb.display.en': '...', # 操作の絞り込み\n",
    "        'timestamp': { # 操作日時の絞り込み\n",
    "            \"$gte\": {\n",
    "                '$dte': '2022-04-01T00:00:00Z'\n",
    "            },\n",
    "            \"$lte\": {\n",
    "                '$dte': '9999-12-31T00:00:00Z'\n",
    "            }\n",
    "        }\n",
    "    }},\n",
    "    # 取得する最大件数\n",
    "    {'$limit': 30000},\n",
    "]))\n",
    "url = f'http://learninglocker:8080/statements/aggregate?cache=false&pipeline={pipeline}'\n",
    "\n",
    "r = requests.get(url, auth=(user, passwd))\n",
    "\n",
    "# Jsonを辞書型に変換\n",
    "response_data = json.loads(r.text)\n",
    "# 辞書からステートメントのみを抽出\n",
    "stats = [d['statement'] for d in response_data]\n",
    "# ネスト項目をフラットにしてpandasのDataFrameを作成\n",
    "df = pd.io.json.json_normalize(stats)\n",
    "pd.set_option('display.max_columns', 100)\n",
    "df.head()"
   ]
  },
  {
   "cell_type": "code",
   "execution_count": null,
   "metadata": {},
   "outputs": [],
   "source": [
    "# イベントの件数を集計\n",
    "plt.figure(figsize=(10, 10))\n",
    "plt.rcParams[\"font.size\"] = 20\n",
    "sns.countplot(y='verb.display.en', data=df)"
   ]
  }
 ],
 "metadata": {
  "kernelspec": {
   "display_name": "Python 3",
   "language": "python",
   "name": "python3"
  },
  "language_info": {
   "codemirror_mode": {
    "name": "ipython",
    "version": 3
   },
   "file_extension": ".py",
   "mimetype": "text/x-python",
   "name": "python",
   "nbconvert_exporter": "python",
   "pygments_lexer": "ipython3",
   "version": "3.7.4"
  }
 },
 "nbformat": 4,
 "nbformat_minor": 2
}
