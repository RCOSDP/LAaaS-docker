{
 "cells": [
  {
   "cell_type": "code",
   "execution_count": null,
   "metadata": {},
   "outputs": [],
   "source": [
    "import json\n",
    "import matplotlib.pyplot as plt\n",
    "import pandas as pd\n",
    "import requests\n",
    "import seaborn as sns"
   ]
  },
  {
   "cell_type": "markdown",
   "metadata": {},
   "source": [
    "## Caliperステートメントを取得\n",
    "### ユーザ名、パスワードを設定して認証トークンを取得"
   ]
  },
  {
   "cell_type": "code",
   "execution_count": null,
   "metadata": {},
   "outputs": [],
   "source": [
    "base_url = 'http://openlrw:9966/api'\n",
    "\n",
    "headers = {\n",
    "    'X-Requested-With': 'XMLHttpRequest',\n",
    "    'Content-Type': 'application/json',\n",
    "    'Cache-Control': 'no-cache'\n",
    "}\n",
    "\n",
    "# OpenLRWから取得したapiKeyとapiSecretを設定\n",
    "data = {\n",
    "    'username': '<apiKey>',\n",
    "    'password': '<apiSecret>'\n",
    "}\n",
    "\n",
    "res = requests.post(url=f'{base_url}/auth/login', data=json.dumps(data), headers=headers)\n",
    "jwt = res.json()['token']\n",
    "headers['Authorization'] = f'Bearer {jwt}'"
   ]
  },
  {
   "cell_type": "markdown",
   "metadata": {},
   "source": [
    "### ステートメントを取得\n",
    "ステートメントの詳細は[Caliper仕様](https://www.imsglobal.org/sites/default/files/caliper/v1p1/caliper-spec-v1p1/caliper-spec-v1p1.html)を参照すること。"
   ]
  },
  {
   "cell_type": "code",
   "execution_count": null,
   "metadata": {},
   "outputs": [],
   "source": [
    "# ユーザIDを指定\n",
    "#res = requests.get(url=f'{base_url}/users/<userId>/events', headers=headers)\n",
    "\n",
    "# 取得件数を指定（デフォルトは1000件）\n",
    "#res = requests.get(url=f'{base_url}/events?limit=<number>', headers=headers)\n",
    "\n",
    "res = requests.get(url=f'{base_url}/events', headers=headers)\n",
    "\n",
    "df = pd.io.json.json_normalize(res.json())\n",
    "df.head()"
   ]
  },
  {
   "cell_type": "markdown",
   "metadata": {},
   "source": [
    "## ステートメントの分析\n",
    "### ユーザの行動を棒グラフで可視化"
   ]
  },
  {
   "cell_type": "code",
   "execution_count": null,
   "metadata": {},
   "outputs": [],
   "source": [
    "plt.figure(figsize=(10,10))\n",
    "plt.rcParams['font.size'] = 20\n",
    "sns.countplot(y='action', data=df)"
   ]
  }
 ],
 "metadata": {
  "kernelspec": {
   "display_name": "Python 3",
   "language": "python",
   "name": "python3"
  },
  "language_info": {
   "codemirror_mode": {
    "name": "ipython",
    "version": 3
   },
   "file_extension": ".py",
   "mimetype": "text/x-python",
   "name": "python",
   "nbconvert_exporter": "python",
   "pygments_lexer": "ipython3",
   "version": "3.7.4"
  }
 },
 "nbformat": 4,
 "nbformat_minor": 2
}
